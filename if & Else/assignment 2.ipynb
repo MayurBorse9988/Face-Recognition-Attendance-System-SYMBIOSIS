{
 "cells": [
  {
   "cell_type": "raw",
   "id": "f8cb46fe",
   "metadata": {},
   "source": [
    "1) Write a program to find the lowest number out of two numbers excepted from user."
   ]
  },
  {
   "cell_type": "code",
   "execution_count": 1,
   "id": "8b2e83cd",
   "metadata": {},
   "outputs": [
    {
     "name": "stdout",
     "output_type": "stream",
     "text": [
      "Enter the first number: 12\n",
      "Enter the second number: 11\n",
      "The lowest number is: 11\n"
     ]
    }
   ],
   "source": [
    "number1 = int(input(\"Enter the first number: \"))\n",
    "number2 = int(input(\"Enter the second number: \"))\n",
    "if number1 < number2:\n",
    "    lowest_number = number1\n",
    "else:\n",
    "    lowest_number = number2\n",
    "print(\"The lowest number is:\", lowest_number)"
   ]
  },
  {
   "cell_type": "raw",
   "id": "3b1b3867",
   "metadata": {},
   "source": [
    "2) Write a program to whether a number (accepted from user) is divisible by 2 and 3 both."
   ]
  },
  {
   "cell_type": "code",
   "execution_count": 2,
   "id": "c728a348",
   "metadata": {},
   "outputs": [
    {
     "name": "stdout",
     "output_type": "stream",
     "text": [
      "Enter a number: 12\n",
      "12 is divisible by both 2 and 3.\n"
     ]
    }
   ],
   "source": [
    "number = int(input(\"Enter a number: \"))\n",
    "if number % 2 == 0 and number % 3 == 0:\n",
    "    print(f\"{number} is divisible by both 2 and 3.\")\n",
    "elif number % 2 == 0:\n",
    "    print(f\"{number} is divisible by 2, but not by 3.\")\n",
    "elif number % 3 == 0:\n",
    "    print(f\"{number} is divisible by 3, but not by 2.\")\n",
    "else:\n",
    "    print(f\"{number} is not divisible by either 2 or 3.\")"
   ]
  },
  {
   "cell_type": "raw",
   "id": "21b184f4",
   "metadata": {},
   "source": [
    "3) Accept the age of 4 people and display the oldest one."
   ]
  },
  {
   "cell_type": "code",
   "execution_count": 3,
   "id": "d537c6a0",
   "metadata": {},
   "outputs": [
    {
     "name": "stdout",
     "output_type": "stream",
     "text": [
      "Enter the age of person 1: 1\n",
      "Enter the age of person 2: 3\n",
      "Enter the age of person 3: 5\n",
      "Enter the age of person 4: 7\n",
      "The oldest person is 7 years old.\n"
     ]
    }
   ],
   "source": [
    "age1 = int(input(\"Enter the age of person 1: \"))\n",
    "age2 = int(input(\"Enter the age of person 2: \"))\n",
    "age3 = int(input(\"Enter the age of person 3: \"))\n",
    "age4 = int(input(\"Enter the age of person 4: \"))\n",
    "oldest_age = max(age1, age2, age3, age4)  # Use the max() function for efficiency\n",
    "print(\"The oldest person is\", oldest_age, \"years old.\")\n"
   ]
  },
  {
   "cell_type": "raw",
   "id": "6f7c4fc4",
   "metadata": {},
   "source": [
    "4) Write a program to check whether a number  is prime or not."
   ]
  },
  {
   "cell_type": "code",
   "execution_count": 5,
   "id": "37778421",
   "metadata": {},
   "outputs": [
    {
     "name": "stdout",
     "output_type": "stream",
     "text": [
      "60 is not a prime number.\n"
     ]
    }
   ],
   "source": [
    "def is_prime(n):\n",
    "  if n <= 1:\n",
    "    return False\n",
    "  for i in range(2, int(n**0.5) + 1):\n",
    "    if n % i == 0:\n",
    "      return False\n",
    "  return True\n",
    "number = 60\n",
    "if is_prime(number):\n",
    "  print(f\"{number} is a prime number.\")\n",
    "else:\n",
    "  print(f\"{number} is not a prime number.\")"
   ]
  },
  {
   "cell_type": "raw",
   "id": "3e9f0db5",
   "metadata": {},
   "source": [
    "5) Write a program to check a character is vowel or not."
   ]
  },
  {
   "cell_type": "code",
   "execution_count": 6,
   "id": "9501e629",
   "metadata": {},
   "outputs": [
    {
     "name": "stdout",
     "output_type": "stream",
     "text": [
      "e is a vowel.\n"
     ]
    }
   ],
   "source": [
    "vowels = \"aeiouAEIOU\"\n",
    "character = \"e\" \n",
    "if character.lower() in vowels:\n",
    "    print(f\"{character} is a vowel.\")\n",
    "else:\n",
    "    print(f\"{character} is not a vowel.\")"
   ]
  },
  {
   "cell_type": "code",
   "execution_count": null,
   "id": "6789b026",
   "metadata": {},
   "outputs": [],
   "source": []
  }
 ],
 "metadata": {
  "kernelspec": {
   "display_name": "Python 3 (ipykernel)",
   "language": "python",
   "name": "python3"
  },
  "language_info": {
   "codemirror_mode": {
    "name": "ipython",
    "version": 3
   },
   "file_extension": ".py",
   "mimetype": "text/x-python",
   "name": "python",
   "nbconvert_exporter": "python",
   "pygments_lexer": "ipython3",
   "version": "3.11.4"
  }
 },
 "nbformat": 4,
 "nbformat_minor": 5
}
